{
 "cells": [
  {
   "cell_type": "code",
   "execution_count": null,
   "id": "696a916a-9ced-424c-91ec-318ece78c0f4",
   "metadata": {},
   "outputs": [],
   "source": [
    "rho_KE_HR, _, drhodT_KE_HR = pop_tools.eos(ds_KE_HR.SALT, ds_KE_HR.TEMP, depth=ds_KE_HR.z_t*1e-2, return_coefs=True)\n",
    "# drhodS_KE_HR = drhodS_KE_HR/1000 \n",
    "# pop_tools.eos drhodS times 1000 at the end of codes, probably for unit conversion, I divied 1000 to get the correct amplitude\n",
    "alpha_KE_HR = -1/rho_KE_HR*drhodT_KE_HR"
   ]
  }
 ],
 "metadata": {
  "kernelspec": {
   "display_name": "Python 3",
   "language": "python",
   "name": "python3"
  },
  "language_info": {
   "codemirror_mode": {
    "name": "ipython",
    "version": 3
   },
   "file_extension": ".py",
   "mimetype": "text/x-python",
   "name": "python",
   "nbconvert_exporter": "python",
   "pygments_lexer": "ipython3",
   "version": "3.7.10"
  }
 },
 "nbformat": 4,
 "nbformat_minor": 5
}
